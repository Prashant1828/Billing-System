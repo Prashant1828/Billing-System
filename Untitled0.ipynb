{
  "nbformat": 4,
  "nbformat_minor": 0,
  "metadata": {
    "colab": {
      "provenance": [],
      "authorship_tag": "ABX9TyO2kfAYvyNjztH+9ed7jr/n",
      "include_colab_link": true
    },
    "kernelspec": {
      "name": "python3",
      "display_name": "Python 3"
    },
    "language_info": {
      "name": "python"
    }
  },
  "cells": [
    {
      "cell_type": "markdown",
      "metadata": {
        "id": "view-in-github",
        "colab_type": "text"
      },
      "source": [
        "<a href=\"https://colab.research.google.com/github/Prashant1828/Billing-System/blob/main/Untitled0.ipynb\" target=\"_parent\"><img src=\"https://colab.research.google.com/assets/colab-badge.svg\" alt=\"Open In Colab\"/></a>"
      ]
    },
    {
      "cell_type": "code",
      "execution_count": null,
      "metadata": {
        "id": "DhhmqAjKzZHk"
      },
      "outputs": [],
      "source": [
        "#Salary Slip\n",
        "\n",
        "name = input(\"enter name\")\n",
        "month_salary = int(input(\"enter monthly salary\"))\n",
        "leave = int(input(\"enter leave\"))\n",
        "month = int(input(\"enter month\"))\n",
        "year = int(input(\"enter year\"))\n",
        "tds = int(input(\"enter tds\"))\n",
        "\n",
        "if year%4==0:\n",
        "  if month==2:\n",
        "    leave_amount=month_salary/29*leave\n",
        "elif month==2:\n",
        "    leave_amount=month_salary/28*leave\n",
        "elif month==8:\n",
        "    leave_amount=month_salary/31*leave\n",
        "elif month%2==0:\n",
        "  leave_amount=month_salary/30*leave\n",
        "elif month%2==1:\n",
        "  leave_amount=month_salary/31*leave\n",
        "\n",
        "if month==1:\n",
        "  date=(\"January\",year)\n",
        "elif month==2:\n",
        "  date=('February',year)\n",
        "elif month==3:\n",
        "  date=('March',year)\n",
        "elif month==4:\n",
        "  date=('April',year)\n",
        "elif month==5:\n",
        "  date=('May',year)\n",
        "elif month==6:\n",
        "  date=('June',year)\n",
        "elif month==7:\n",
        "  date=('July',year)\n",
        "elif month==8:\n",
        "  date=('August',year)\n",
        "elif month==9:\n",
        "  date=('September',year)\n",
        "elif month==10:\n",
        "  date=('October',year)\n",
        "elif month==11:\n",
        "  date=('November',year)\n",
        "elif month==12:\n",
        "  date=('December',year)\n",
        "\n",
        "\n",
        "tds = month_salary/100*tds\n",
        "ctc=month_salary*12\n",
        "final_salary = month_salary-tds-leave_amount\n",
        "\n",
        "print(\"Employee Name  -\",name)\n",
        "print(\"Employee Salary monthly  -\",month_salary)\n",
        "print(\"Leave Amount -\",leave_amount)\n",
        "print(\"Date -\",date)\n",
        "print(\"TDS Amount -\",tds)\n",
        "print(\"CTC (Yearly Salary) -\",ctc)\n",
        "print(\"Final Salary\",final_salary)"
      ]
    }
  ]
}