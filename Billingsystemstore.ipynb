{
  "nbformat": 4,
  "nbformat_minor": 0,
  "metadata": {
    "colab": {
      "provenance": [],
      "authorship_tag": "ABX9TyOtHdCnhfwJ2CGzTkB9271m",
      "include_colab_link": true
    },
    "kernelspec": {
      "name": "python3",
      "display_name": "Python 3"
    },
    "language_info": {
      "name": "python"
    }
  },
  "cells": [
    {
      "cell_type": "markdown",
      "metadata": {
        "id": "view-in-github",
        "colab_type": "text"
      },
      "source": [
        "<a href=\"https://colab.research.google.com/github/Prashant1828/Billing-System/blob/main/Billingsystemstore.ipynb\" target=\"_parent\"><img src=\"https://colab.research.google.com/assets/colab-badge.svg\" alt=\"Open In Colab\"/></a>"
      ]
    },
    {
      "cell_type": "code",
      "execution_count": null,
      "metadata": {
        "id": "DJ0uNUylpcxw"
      },
      "outputs": [],
      "source": [
        "# Billing system with List Size\n",
        "\n",
        "item = []\n",
        "prices = []\n",
        "quantity = []\n",
        "total = 0\n",
        "\n",
        "list_size = int(input(\"Enter list item size ... \"))\n",
        "\n",
        "for i in range (0,list_size):\n",
        "  food = input(\"Enter Item Name\")\n",
        "  qty = int(input(f\"Enter  the Quantity of {food}\"))\n",
        "  price = int(input(f\"Enter the Price of {food}:Rs.\"))\n",
        "  price = qty*price\n",
        "  item.append(food)\n",
        "  quantity.append(qty)\n",
        "  prices.append(price)\n",
        "\n",
        "for i in range (list_size):\n",
        "  print ((i+1) , \"  =   \" , item[i] ,  \"  = \" , quantity[i] , \" = \" , prices[i] ,\"/-\")\n",
        "\n",
        "for price in prices:\n",
        "  total = total + price\n",
        "\n",
        "gst = int(input(\"Add GST (for no 1/ for yes 2)\"))\n",
        "if gst==1:\n",
        "  print('final_payment')\n",
        "elif gst==2:\n",
        "  gst_rate=int(input(\"Enter GST rate...%\"))\n",
        "else:\n",
        "  print(\"invalid choise\")\n",
        "\n",
        "gst_amt = total*gst_rate/100\n",
        "final_payment = gst_amt+total\n",
        "\n",
        "\n",
        "print(\"-------------------------------------------------\")\n",
        "print(\"-------------------- WELCOME --------------------\")\n",
        "print(\"-------------------------------------------------\")\n",
        "print(\"-------------- Prashant Super Store -------------\")\n",
        "print(\"-------------------------------------------------\")\n",
        "print(\"Sr. No    Item       Qty         Price\")\n",
        "\n",
        "for i in range (list_size):\n",
        "  print ((i+1) , \"  =   \" , item[i] ,  \"  = \" , quantity[i] , \" = \" , prices[i] ,\"/-\")\n",
        "print(\"-------------------------------------------------\")\n",
        "print(\"-------------------------------------------------\")\n",
        "print(f\"Your Total is Rs...{total}/-\")\n",
        "print(\"--------------------------------------------------\")\n",
        "print(f\"Your Final Bill is Rs....{final_payment}/-       \")\n",
        "print(\"--------------------------------------------------\")\n",
        "print(\"NOTE* please check your bill ---------------------\")\n",
        "print(\"    * Carry Bag will be charged extra ----------- \")\n",
        "print(\"    * Free home delivery for order above Rs.1000/-\")\n",
        "print(\"--------------------------------------------------\")\n",
        "print(\"------------------Thanks for visiting-------------\")\n",
        "print(\"--------------------------------------------------\")"
      ]
    }
  ]
}