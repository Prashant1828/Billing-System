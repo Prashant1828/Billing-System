{
  "nbformat": 4,
  "nbformat_minor": 0,
  "metadata": {
    "colab": {
      "provenance": [],
      "authorship_tag": "ABX9TyPSDkx2uvqWsj8d4DntW9I9",
      "include_colab_link": true
    },
    "kernelspec": {
      "name": "python3",
      "display_name": "Python 3"
    },
    "language_info": {
      "name": "python"
    }
  },
  "cells": [
    {
      "cell_type": "markdown",
      "metadata": {
        "id": "view-in-github",
        "colab_type": "text"
      },
      "source": [
        "<a href=\"https://colab.research.google.com/github/Prashant1828/Billing-System/blob/main/todolist.ipynb\" target=\"_parent\"><img src=\"https://colab.research.google.com/assets/colab-badge.svg\" alt=\"Open In Colab\"/></a>"
      ]
    },
    {
      "cell_type": "code",
      "execution_count": null,
      "metadata": {
        "colab": {
          "base_uri": "https://localhost:8080/"
        },
        "id": "njmSfm4tu3Lu",
        "outputId": "7c6de907-bab0-4696-ff11-f470bd0ea125"
      },
      "outputs": [
        {
          "name": "stdout",
          "output_type": "stream",
          "text": [
            "Options:\n",
            "Enter 'add' to add a task\n",
            "Enter 'delete' to delete a task\n",
            "Enter 'view' to view tasks\n",
            "Enter 'exit' to end the program\n",
            ": add\n",
            "Enter a task: meeting at 6am\n",
            "Task added: meeting at 6am\n",
            "Options:\n",
            "Enter 'add' to add a task\n",
            "Enter 'delete' to delete a task\n",
            "Enter 'view' to view tasks\n",
            "Enter 'exit' to end the program\n",
            ": add\n",
            "Enter a task: breakfast at 9am\n",
            "Task added: breakfast at 9am\n",
            "Options:\n",
            "Enter 'add' to add a task\n",
            "Enter 'delete' to delete a task\n",
            "Enter 'view' to view tasks\n",
            "Enter 'exit' to end the program\n",
            ": view\n",
            "Tasks:\n",
            "1. meeting at 6am\n",
            "2. breakfast at 9am\n",
            "Options:\n",
            "Enter 'add' to add a task\n",
            "Enter 'delete' to delete a task\n",
            "Enter 'view' to view tasks\n",
            "Enter 'exit' to end the program\n",
            ": exit\n"
          ]
        }
      ],
      "source": [
        "# Define an empty list to store tasks\n",
        "tasks = []\n",
        "\n",
        "def add_task(task):\n",
        "    tasks.append(task)\n",
        "    print(\"Task added:\", task)\n",
        "\n",
        "def delete_task(task):\n",
        "    if task in tasks:\n",
        "        tasks.remove(task)\n",
        "        print(\"Task deleted:\", task)\n",
        "    else:\n",
        "        print(\"Task not found\")\n",
        "\n",
        "def view_tasks():\n",
        "    if not tasks:\n",
        "        print(\"No tasks in the list\")\n",
        "    else:\n",
        "        print(\"Tasks:\")\n",
        "        for index, task in enumerate(tasks, start=1):\n",
        "            print(f\"{index}. {task}\")\n",
        "\n",
        "while True:\n",
        "    print(\"Options:\")\n",
        "    print(\"Enter 'add' to add a task\")\n",
        "    print(\"Enter 'delete' to delete a task\")\n",
        "    print(\"Enter 'view' to view tasks\")\n",
        "    print(\"Enter 'exit' to end the program\")\n",
        "\n",
        "    user_input = input(\": \")\n",
        "\n",
        "    if user_input == \"exit\":\n",
        "        break\n",
        "    elif user_input == \"add\":\n",
        "        task = input(\"Enter a task: \")\n",
        "        add_task(task)\n",
        "    elif user_input == \"delete\":\n",
        "        task = input(\"Enter the task to delete: \")\n",
        "        delete_task(task)\n",
        "    elif user_input == \"view\":\n",
        "        view_tasks()\n",
        "    else:\n",
        "        print(\"Invalid input\")"
      ]
    }
  ]
}