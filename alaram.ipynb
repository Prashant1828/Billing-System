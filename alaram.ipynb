{
  "nbformat": 4,
  "nbformat_minor": 0,
  "metadata": {
    "colab": {
      "provenance": [],
      "authorship_tag": "ABX9TyNBcJycp2qUrpC5S831st+q",
      "include_colab_link": true
    },
    "kernelspec": {
      "name": "python3",
      "display_name": "Python 3"
    },
    "language_info": {
      "name": "python"
    }
  },
  "cells": [
    {
      "cell_type": "markdown",
      "metadata": {
        "id": "view-in-github",
        "colab_type": "text"
      },
      "source": [
        "<a href=\"https://colab.research.google.com/github/Prashant1828/Billing-System/blob/main/alaram.ipynb\" target=\"_parent\"><img src=\"https://colab.research.google.com/assets/colab-badge.svg\" alt=\"Open In Colab\"/></a>"
      ]
    },
    {
      "cell_type": "code",
      "execution_count": 1,
      "metadata": {
        "colab": {
          "base_uri": "https://localhost:8080/",
          "height": 453
        },
        "id": "pB9n9laP5cvy",
        "outputId": "2e30d84f-5b2a-4158-9568-aca761f21aaf"
      },
      "outputs": [
        {
          "name": "stdout",
          "output_type": "stream",
          "text": [
            "Options:\n",
            "Enter '1' to set an alarm\n",
            "Enter '2' to snooze the alarm\n",
            "Enter '3' to stop the alarm\n",
            "Enter '4' to exit\n",
            ": 1\n",
            "Enter the alarm time (HH:MM): 12:40\n"
          ]
        },
        {
          "output_type": "error",
          "ename": "KeyboardInterrupt",
          "evalue": "",
          "traceback": [
            "\u001b[0;31m---------------------------------------------------------------------------\u001b[0m",
            "\u001b[0;31mKeyboardInterrupt\u001b[0m                         Traceback (most recent call last)",
            "\u001b[0;32m<ipython-input-1-729d2f6c311f>\u001b[0m in \u001b[0;36m<cell line: 28>\u001b[0;34m()\u001b[0m\n\u001b[1;32m     36\u001b[0m \u001b[0;34m\u001b[0m\u001b[0m\n\u001b[1;32m     37\u001b[0m     \u001b[0;32mif\u001b[0m \u001b[0mchoice\u001b[0m \u001b[0;34m==\u001b[0m \u001b[0;34m'1'\u001b[0m\u001b[0;34m:\u001b[0m\u001b[0;34m\u001b[0m\u001b[0;34m\u001b[0m\u001b[0m\n\u001b[0;32m---> 38\u001b[0;31m         \u001b[0mset_alarm\u001b[0m\u001b[0;34m(\u001b[0m\u001b[0;34m)\u001b[0m\u001b[0;34m\u001b[0m\u001b[0;34m\u001b[0m\u001b[0m\n\u001b[0m\u001b[1;32m     39\u001b[0m     \u001b[0;32melif\u001b[0m \u001b[0mchoice\u001b[0m \u001b[0;34m==\u001b[0m \u001b[0;34m'2'\u001b[0m\u001b[0;34m:\u001b[0m\u001b[0;34m\u001b[0m\u001b[0;34m\u001b[0m\u001b[0m\n\u001b[1;32m     40\u001b[0m         \u001b[0msnooze_alarm\u001b[0m\u001b[0;34m(\u001b[0m\u001b[0;34m)\u001b[0m\u001b[0;34m\u001b[0m\u001b[0;34m\u001b[0m\u001b[0m\n",
            "\u001b[0;32m<ipython-input-1-729d2f6c311f>\u001b[0m in \u001b[0;36mset_alarm\u001b[0;34m()\u001b[0m\n\u001b[1;32m      7\u001b[0m     \u001b[0;32mwhile\u001b[0m \u001b[0;32mTrue\u001b[0m\u001b[0;34m:\u001b[0m\u001b[0;34m\u001b[0m\u001b[0;34m\u001b[0m\u001b[0m\n\u001b[1;32m      8\u001b[0m         \u001b[0mcurrent_time\u001b[0m \u001b[0;34m=\u001b[0m \u001b[0mtime\u001b[0m\u001b[0;34m.\u001b[0m\u001b[0mstrftime\u001b[0m\u001b[0;34m(\u001b[0m\u001b[0;34m\"%H:%M\"\u001b[0m\u001b[0;34m)\u001b[0m\u001b[0;34m\u001b[0m\u001b[0;34m\u001b[0m\u001b[0m\n\u001b[0;32m----> 9\u001b[0;31m         \u001b[0;32mif\u001b[0m \u001b[0mcurrent_time\u001b[0m \u001b[0;34m==\u001b[0m \u001b[0malarm_time\u001b[0m\u001b[0;34m:\u001b[0m\u001b[0;34m\u001b[0m\u001b[0;34m\u001b[0m\u001b[0m\n\u001b[0m\u001b[1;32m     10\u001b[0m             \u001b[0mprint\u001b[0m\u001b[0;34m(\u001b[0m\u001b[0;34m\"Wake up!\"\u001b[0m\u001b[0;34m)\u001b[0m\u001b[0;34m\u001b[0m\u001b[0;34m\u001b[0m\u001b[0m\n\u001b[1;32m     11\u001b[0m             \u001b[0;31m#winsound.Beep(1000, 1000)  # Beep for 1 second\u001b[0m\u001b[0;34m\u001b[0m\u001b[0;34m\u001b[0m\u001b[0m\n",
            "\u001b[0;31mKeyboardInterrupt\u001b[0m: "
          ]
        }
      ],
      "source": [
        "import time\n",
        "#import winsound\n",
        "\n",
        "# Function to set an alarm\n",
        "def set_alarm():\n",
        "    alarm_time = input(\"Enter the alarm time (HH:MM): \")\n",
        "    while True:\n",
        "        current_time = time.strftime(\"%H:%M\")\n",
        "        if current_time == alarm_time:\n",
        "            print(\"Wake up!\")\n",
        "            #winsound.Beep(1000, 1000)  # Beep for 1 second\n",
        "            break\n",
        "\n",
        "# Function to snooze the alarm\n",
        "def snooze_alarm():\n",
        "    snooze_time = 5  # Snooze for 5 minutes\n",
        "    alarm_time = time.time() + snooze_time * 60\n",
        "    while time.time() < alarm_time:\n",
        "        pass\n",
        "    print(\"Snooze time is over. Wake up!\")\n",
        "    #winsound.Beep(1000, 1000)  # Beep for 1 second\n",
        "\n",
        "# Function to stop the alarm\n",
        "def stop_alarm():\n",
        "    print(\"Alarm stopped\")\n",
        "\n",
        "# Main loop for the alarm clock\n",
        "while True:\n",
        "    print(\"Options:\")\n",
        "    print(\"Enter '1' to set an alarm\")\n",
        "    print(\"Enter '2' to snooze the alarm\")\n",
        "    print(\"Enter '3' to stop the alarm\")\n",
        "    print(\"Enter '4' to exit\")\n",
        "\n",
        "    choice = input(\": \")\n",
        "\n",
        "    if choice == '1':\n",
        "        set_alarm()\n",
        "    elif choice == '2':\n",
        "        snooze_alarm()\n",
        "    elif choice == '3':\n",
        "        stop_alarm()\n",
        "    elif choice == '4':\n",
        "        break\n",
        "    else:\n",
        "        print(\"Invalid input. Please enter a valid option.\")"
      ]
    }
  ]
}